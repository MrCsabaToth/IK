{
 "cells": [
  {
   "cell_type": "code",
   "execution_count": 1,
   "id": "845fa645",
   "metadata": {
    "id": "845fa645"
   },
   "outputs": [],
   "source": [
    "import openai\n",
    "import pandas as pd"
   ]
  },
  {
   "cell_type": "code",
   "execution_count": 2,
   "id": "049d05e7",
   "metadata": {
    "id": "049d05e7"
   },
   "outputs": [],
   "source": [
    "import os\n",
    "from dotenv import load_dotenv\n",
    "\n",
    "load_dotenv()\n",
    "# API key here\n",
    "openai_api_key = os.getenv(\"OPENAI_API_KEY\")\n",
    "\n",
    "# don't share this key in public / github"
   ]
  },
  {
   "cell_type": "code",
   "execution_count": 3,
   "id": "208bfc64",
   "metadata": {
    "id": "208bfc64"
   },
   "outputs": [],
   "source": [
    "# chat completion method\n",
    "# https://platform.openai.com/docs/guides/text-generation/chat-completions-api\n",
    "client = openai.OpenAI(\n",
    "    # This is the default and can be omitted\n",
    "    api_key=openai_api_key\n",
    ")\n",
    "\n",
    "def get_completion(prompt, model=\"gpt-3.5-turbo-0125\"):\n",
    "    messages = [{\"role\": \"user\", \"content\": prompt}]\n",
    "    response = client.chat.completions.create(\n",
    "        model=model,\n",
    "        messages=messages,\n",
    "        temperature=0\n",
    "    )\n",
    "    return response.choices[0].message.content"
   ]
  },
  {
   "cell_type": "code",
   "execution_count": 4,
   "id": "576eb1a7",
   "metadata": {
    "id": "576eb1a7"
   },
   "outputs": [
    {
     "name": "stdout",
     "output_type": "stream",
     "text": [
      "The Intel Knight Landing Xeon Phi processor supports a wide range of AVX512 instructions, including:\n",
      "\n",
      "1. AVX-512F (Foundation)\n",
      "2. AVX-512CD (Conflict Detection)\n",
      "3. AVX-512ER (Exponential and Reciprocal)\n",
      "4. AVX-512PF (Prefetch)\n",
      "5. AVX-512BW (Byte and Word)\n",
      "6. AVX-512DQ (Doubleword and Quadword)\n",
      "7. AVX-512VL (Vector Length Extensions)\n",
      "8. AVX-512IFMA (Integer Fused Multiply-Add)\n",
      "9. AVX-512VBMI (Vector Byte Manipulation Instructions)\n",
      "10. AVX-512VBMI2 (Vector Byte Manipulation Instructions 2)\n",
      "11. AVX-512VPOPCNTDQ (Vector Population Count Doubleword and Quadword)\n",
      "12. AVX-512BITALG (Bit Algorithms)\n",
      "13. AVX-512VNNI (Vector Neural Network Instructions)\n",
      "14. AVX-512BF16 (BFloat16 Instructions)\n",
      "15. AVX-512VP2INTERSECT (Vector Pairwise Intersection Instructions)\n",
      "\n",
      "These instructions provide enhanced performance for a variety of computational tasks, including scientific computing, machine learning, and data analytics.\n"
     ]
    }
   ],
   "source": [
    "prompt = f\"\"\"\n",
    "What AVX512 instructions the Intel Knight Landing Xeon Phi processor supports?\n",
    "\"\"\"\n",
    "\n",
    "response = get_completion(prompt)\n",
    "print(response)\n",
    "#If this runs successfully, your API key is working!"
   ]
  },
  {
   "cell_type": "code",
   "execution_count": null,
   "id": "1ee06f91",
   "metadata": {
    "id": "1ee06f91"
   },
   "outputs": [],
   "source": []
  },
  {
   "cell_type": "code",
   "execution_count": null,
   "id": "13f3b2d0",
   "metadata": {
    "id": "13f3b2d0"
   },
   "outputs": [],
   "source": []
  }
 ],
 "metadata": {
  "colab": {
   "provenance": []
  },
  "kernelspec": {
   "display_name": ".venv",
   "language": "python",
   "name": "python3"
  },
  "language_info": {
   "codemirror_mode": {
    "name": "ipython",
    "version": 3
   },
   "file_extension": ".py",
   "mimetype": "text/x-python",
   "name": "python",
   "nbconvert_exporter": "python",
   "pygments_lexer": "ipython3",
   "version": "3.12.9"
  }
 },
 "nbformat": 4,
 "nbformat_minor": 5
}
